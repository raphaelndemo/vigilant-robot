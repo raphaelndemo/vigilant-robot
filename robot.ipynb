{
 "cells": [
  {
   "cell_type": "code",
   "execution_count": 16,
   "id": "9b6c3565",
   "metadata": {},
   "outputs": [
    {
     "data": {
      "text/html": [
       "<div>\n",
       "<style scoped>\n",
       "    .dataframe tbody tr th:only-of-type {\n",
       "        vertical-align: middle;\n",
       "    }\n",
       "\n",
       "    .dataframe tbody tr th {\n",
       "        vertical-align: top;\n",
       "    }\n",
       "\n",
       "    .dataframe thead th {\n",
       "        text-align: right;\n",
       "    }\n",
       "</style>\n",
       "<table border=\"1\" class=\"dataframe\">\n",
       "  <thead>\n",
       "    <tr style=\"text-align: right;\">\n",
       "      <th></th>\n",
       "      <th>Amsterdam</th>\n",
       "      <th>Berlin</th>\n",
       "      <th>Cairo</th>\n",
       "      <th>Durban</th>\n",
       "      <th>Eldoret</th>\n",
       "    </tr>\n",
       "  </thead>\n",
       "  <tbody>\n",
       "    <tr>\n",
       "      <th>0</th>\n",
       "      <td>100</td>\n",
       "      <td>220</td>\n",
       "      <td>3</td>\n",
       "      <td>4</td>\n",
       "      <td>5</td>\n",
       "    </tr>\n",
       "    <tr>\n",
       "      <th>1</th>\n",
       "      <td>134</td>\n",
       "      <td>256</td>\n",
       "      <td>3</td>\n",
       "      <td>4</td>\n",
       "      <td>5</td>\n",
       "    </tr>\n",
       "    <tr>\n",
       "      <th>2</th>\n",
       "      <td>143</td>\n",
       "      <td>289</td>\n",
       "      <td>3</td>\n",
       "      <td>4</td>\n",
       "      <td>5</td>\n",
       "    </tr>\n",
       "    <tr>\n",
       "      <th>3</th>\n",
       "      <td>140</td>\n",
       "      <td>245</td>\n",
       "      <td>3</td>\n",
       "      <td>4</td>\n",
       "      <td>5</td>\n",
       "    </tr>\n",
       "  </tbody>\n",
       "</table>\n",
       "</div>"
      ],
      "text/plain": [
       "   Amsterdam  Berlin  Cairo  Durban  Eldoret\n",
       "0        100     220      3       4        5\n",
       "1        134     256      3       4        5\n",
       "2        143     289      3       4        5\n",
       "3        140     245      3       4        5"
      ]
     },
     "execution_count": 16,
     "metadata": {},
     "output_type": "execute_result"
    }
   ],
   "source": [
    "import pandas as pd\n",
    "pd.read_csv('./sample.csv').head()"
   ]
  },
  {
   "cell_type": "code",
   "execution_count": 17,
   "id": "3ed1cd8c",
   "metadata": {},
   "outputs": [
    {
     "data": {
      "text/plain": [
       "'Amsterdam,Berlin,Cairo,Durban,Eldoret\\n100,220,3,4,5\\n134,256,3,4,5\\n143,289,3,4,5\\n140,245,3,4,5'"
      ]
     },
     "execution_count": 17,
     "metadata": {},
     "output_type": "execute_result"
    }
   ],
   "source": [
    "x = open('./sample.csv', 'r')\n",
    "x.read()"
   ]
  },
  {
   "cell_type": "code",
   "execution_count": 18,
   "id": "132bbd69",
   "metadata": {},
   "outputs": [
    {
     "ename": "AttributeError",
     "evalue": "'_io.TextIOWrapper' object has no attribute 'code'",
     "output_type": "error",
     "traceback": [
      "\u001b[1;31m---------------------------------------------------------------------------\u001b[0m",
      "\u001b[1;31mAttributeError\u001b[0m                            Traceback (most recent call last)",
      "\u001b[1;32m<ipython-input-18-1c2bb0667656>\u001b[0m in \u001b[0;36m<module>\u001b[1;34m\u001b[0m\n\u001b[1;32m----> 1\u001b[1;33m \u001b[0mx\u001b[0m\u001b[1;33m.\u001b[0m\u001b[0mcode\u001b[0m\u001b[1;33m(\u001b[0m\u001b[1;33m)\u001b[0m\u001b[1;33m\u001b[0m\u001b[1;33m\u001b[0m\u001b[0m\n\u001b[0m",
      "\u001b[1;31mAttributeError\u001b[0m: '_io.TextIOWrapper' object has no attribute 'code'"
     ]
    }
   ],
   "source": [
    "x.code()"
   ]
  },
  {
   "cell_type": "code",
   "execution_count": null,
   "id": "e74b8cc6",
   "metadata": {},
   "outputs": [],
   "source": [
    "## with automatically open and closes the file when using open\n",
    "\n",
    "with open('./sample.csv', 'r') as f:\n",
    "    print(f.read())"
   ]
  },
  {
   "cell_type": "code",
   "execution_count": null,
   "id": "71e6c91d",
   "metadata": {},
   "outputs": [
    {
     "name": "stdout",
     "output_type": "stream",
     "text": [
      "100 220\n",
      "134 256\n",
      "143 289\n",
      "140 245\n"
     ]
    }
   ],
   "source": [
    "import csv\n",
    "\n",
    "with open('sample.csv') as f:\n",
    "    reader = csv.DictReader(f)\n",
    "    for row in reader:\n",
    "        print(row['Amsterdam'], row['Berlin'])\n"
   ]
  },
  {
   "cell_type": "code",
   "execution_count": null,
   "id": "26f97cd1",
   "metadata": {},
   "outputs": [],
   "source": [
    "with open ('cities.txt','w') as f:\n",
    "    f.write('Dallas | Manchester | Copenhagen')"
   ]
  },
  {
   "cell_type": "code",
   "execution_count": null,
   "id": "d4fbfe6f",
   "metadata": {},
   "outputs": [],
   "source": [
    "#import csv\n",
    "\n",
    "#with open(\"apple_orchard.csv\") as f:\n",
    "    #apple_orchard_data = list(csv.DictReader(f))\n",
    "    #apple_tree_yields = [float(x[\"yield\"]) for x in apple_orchard_data]\n",
    "    #print(\"Total apple tree yields:\", len(apple_tree_yields))\n",
    "    #print(\"Average apple tree yield:\", sum(apple_tree_yields) / len(apple_tree_yields))\n",
    "    #print(\"Maximum apple tree yield:\", max(apple_tree_yields))\n",
    "    #print(\"Minimum apple tree yield:\", min(apple_tree_yields)) "
   ]
  },
  {
   "cell_type": "code",
   "execution_count": null,
   "id": "1b3418cd",
   "metadata": {},
   "outputs": [
    {
     "data": {
      "text/plain": [
       "{'playlist_name': 'My_Jams',\n",
       " 'created_by': 'Chacha',\n",
       " 'tracks': [{'title': 'Stan',\n",
       "   'artist': 'Eminem',\n",
       "   'album': 'The Marshall Mathers LP',\n",
       "   'duration_sec': 405},\n",
       "  {'title': 'In Da Club',\n",
       "   'artist': '50 Cent',\n",
       "   'album': 'Get Rich or Die Tryin',\n",
       "   'duration_sec': 240},\n",
       "  {'title': 'Suzanna',\n",
       "   'artist': 'Sauti Sol',\n",
       "   'album': 'Midnight Train',\n",
       "   'duration_sec': 239},\n",
       "  {'title': 'Many Men',\n",
       "   'artist': '50 Cent',\n",
       "   'album': 'Get Rich or Die Tryin',\n",
       "   'duration_sec': 256},\n",
       "  {'title': 'Bad Liar',\n",
       "   'artist': 'Imagine Dragons',\n",
       "   'album': 'Origins',\n",
       "   'duration_sec': 243}]}"
      ]
     },
     "execution_count": 1,
     "metadata": {},
     "output_type": "execute_result"
    }
   ],
   "source": [
    "import json\n",
    "\n",
    "with open ('playlist.json', 'r') as f:\n",
    "    data = json.load(f)\n",
    "\n",
    "data"
   ]
  },
  {
   "cell_type": "code",
   "execution_count": null,
   "id": "95ebd162",
   "metadata": {},
   "outputs": [
    {
     "data": {
      "text/plain": [
       "'{\\n  \"playlist_name\": \"My_Jams\",\\n  \"created_by\": \"Chacha\",\\n  \"tracks\": [\\n    {\\n      \"title\": \"Stan\",\\n      \"artist\": \"Eminem\",\\n      \"album\": \"The Marshall Mathers LP\",\\n      \"duration_sec\": 405\\n    },\\n    {\\n      \"title\": \"In Da Club\",\\n      \"artist\": \"50 Cent\",\\n      \"album\": \"Get Rich or Die Tryin\",\\n      \"duration_sec\": 240\\n    },\\n    {\\n      \"title\": \"Suzanna\",\\n      \"artist\": \"Sauti Sol\",\\n      \"album\": \"Midnight Train\",\\n      \"duration_sec\": 239\\n    },\\n    {\\n      \"title\": \"Many Men\",\\n      \"artist\": \"50 Cent\",\\n      \"album\": \"Get Rich or Die Tryin\",\\n      \"duration_sec\": 256\\n    },\\n    {\\n      \"title\": \"Bad Liar\",\\n      \"artist\": \"Imagine Dragons\",\\n      \"album\": \"Origins\",\\n      \"duration_sec\": 243\\n    }\\n  ]\\n}\\n'"
      ]
     },
     "execution_count": 5,
     "metadata": {},
     "output_type": "execute_result"
    }
   ],
   "source": [
    "# not recommended, everything becomes a string\n",
    "with open('playlist.json', 'r') as f:\n",
    "    dt = f.read()\n",
    "\n",
    "dt"
   ]
  },
  {
   "cell_type": "code",
   "execution_count": null,
   "id": "da07b387",
   "metadata": {},
   "outputs": [],
   "source": [
    "#Transforming JSON schemas\n",
    "\n",
    "#Here we want to transform JSON into a flatter structure, which we can use for analysis\n",
    "\n",
    "\n",
    "\"\"\"\n",
    "load JSON File,\n",
    "iterate over the tracks and create a new list from the data points\n",
    "\n",
    "\"\"\"\n"
   ]
  },
  {
   "cell_type": "code",
   "execution_count": null,
   "id": "69121206",
   "metadata": {},
   "outputs": [],
   "source": [
    "#using pandas to make it to csv\n",
    "import pandas as pd\n",
    "with open('playlist.json', 'r') as f:\n",
    "    playlist = json.load(f)\n",
    "\n",
    "df = pd.DataFrame(playlist['tracks'])\n",
    "df.head()\n",
    "df.to_csv('tracks.csv', index=False)"
   ]
  },
  {
   "cell_type": "code",
   "execution_count": null,
   "id": "47bcf0a8",
   "metadata": {},
   "outputs": [
    {
     "data": {
      "text/plain": [
       "[{'title': 'Stan',\n",
       "  'artist': 'Eminem',\n",
       "  'album': 'The Marshall Mathers LP',\n",
       "  'duration_sec': 405},\n",
       " {'title': 'In Da Club',\n",
       "  'artist': '50 Cent',\n",
       "  'album': 'Get Rich or Die Tryin',\n",
       "  'duration_sec': 240},\n",
       " {'title': 'Suzanna',\n",
       "  'artist': 'Sauti Sol',\n",
       "  'album': 'Midnight Train',\n",
       "  'duration_sec': 239},\n",
       " {'title': 'Many Men',\n",
       "  'artist': '50 Cent',\n",
       "  'album': 'Get Rich or Die Tryin',\n",
       "  'duration_sec': 256},\n",
       " {'title': 'Bad Liar',\n",
       "  'artist': 'Imagine Dragons',\n",
       "  'album': 'Origins',\n",
       "  'duration_sec': 243}]"
      ]
     },
     "execution_count": 8,
     "metadata": {},
     "output_type": "execute_result"
    }
   ],
   "source": [
    "tracks = data['tracks']\n",
    "tracks"
   ]
  },
  {
   "cell_type": "code",
   "execution_count": null,
   "id": "78bf1f4f",
   "metadata": {},
   "outputs": [
    {
     "data": {
      "text/html": [
       "<div>\n",
       "<style scoped>\n",
       "    .dataframe tbody tr th:only-of-type {\n",
       "        vertical-align: middle;\n",
       "    }\n",
       "\n",
       "    .dataframe tbody tr th {\n",
       "        vertical-align: top;\n",
       "    }\n",
       "\n",
       "    .dataframe thead th {\n",
       "        text-align: right;\n",
       "    }\n",
       "</style>\n",
       "<table border=\"1\" class=\"dataframe\">\n",
       "  <thead>\n",
       "    <tr style=\"text-align: right;\">\n",
       "      <th></th>\n",
       "      <th>title</th>\n",
       "      <th>artist</th>\n",
       "    </tr>\n",
       "  </thead>\n",
       "  <tbody>\n",
       "    <tr>\n",
       "      <th>0</th>\n",
       "      <td>Stan</td>\n",
       "      <td>Eminem</td>\n",
       "    </tr>\n",
       "    <tr>\n",
       "      <th>1</th>\n",
       "      <td>In Da Club</td>\n",
       "      <td>50 Cent</td>\n",
       "    </tr>\n",
       "    <tr>\n",
       "      <th>2</th>\n",
       "      <td>Suzanna</td>\n",
       "      <td>Sauti Sol</td>\n",
       "    </tr>\n",
       "    <tr>\n",
       "      <th>3</th>\n",
       "      <td>Many Men</td>\n",
       "      <td>50 Cent</td>\n",
       "    </tr>\n",
       "    <tr>\n",
       "      <th>4</th>\n",
       "      <td>Bad Liar</td>\n",
       "      <td>Imagine Dragons</td>\n",
       "    </tr>\n",
       "  </tbody>\n",
       "</table>\n",
       "</div>"
      ],
      "text/plain": [
       "        title           artist\n",
       "0        Stan           Eminem\n",
       "1  In Da Club          50 Cent\n",
       "2     Suzanna        Sauti Sol\n",
       "3    Many Men          50 Cent\n",
       "4    Bad Liar  Imagine Dragons"
      ]
     },
     "execution_count": 13,
     "metadata": {},
     "output_type": "execute_result"
    }
   ],
   "source": [
    "flattened_tracks = []\n",
    "\n",
    "for track in tracks:\n",
    "    dict_keys = list(track.keys())\n",
    "    flattened_tracks.append({\n",
    "        dict_keys[0]: track['title'],\n",
    "        dict_keys[1]: track['artist'],\n",
    "    })\n",
    "df2 = pd.DataFrame(flattened_tracks)\n",
    "df2.head()"
   ]
  },
  {
   "cell_type": "code",
   "execution_count": 21,
   "id": "5bd87a3b",
   "metadata": {},
   "outputs": [],
   "source": [
    "with open('playlist.csv', 'w', newline=\"\") as f:\n",
    "    writer = csv.DictWriter(f, fieldnames=['title', 'artist', 'album', 'duration_sec'])\n",
    "    writer.writeheader()\n",
    "    writer.writerows(data['tracks'])"
   ]
  }
 ],
 "metadata": {
  "kernelspec": {
   "display_name": "learn-env",
   "language": "python",
   "name": "python3"
  },
  "language_info": {
   "codemirror_mode": {
    "name": "ipython",
    "version": 3
   },
   "file_extension": ".py",
   "mimetype": "text/x-python",
   "name": "python",
   "nbconvert_exporter": "python",
   "pygments_lexer": "ipython3",
   "version": "3.8.5"
  }
 },
 "nbformat": 4,
 "nbformat_minor": 5
}
