{
 "cells": [
  {
   "cell_type": "code",
   "execution_count": null,
   "id": "9b6c3565",
   "metadata": {},
   "outputs": [],
   "source": [
    "import pandas as pd\n",
    "pd.read_csv('./sample.csv').head()"
   ]
  },
  {
   "cell_type": "code",
   "execution_count": null,
   "id": "3ed1cd8c",
   "metadata": {},
   "outputs": [],
   "source": [
    "x = open('./sample.csv', 'r')\n",
    "x.read()"
   ]
  },
  {
   "cell_type": "code",
   "execution_count": null,
   "id": "132bbd69",
   "metadata": {},
   "outputs": [],
   "source": [
    "x.code()"
   ]
  },
  {
   "cell_type": "code",
   "execution_count": null,
   "id": "e74b8cc6",
   "metadata": {},
   "outputs": [],
   "source": [
    "## with automatically open and closes the file when using open\n",
    "\n",
    "with open('./sample.csv', 'r') as f:\n",
    "    print(f.read())"
   ]
  },
  {
   "cell_type": "code",
   "execution_count": 3,
   "id": "71e6c91d",
   "metadata": {},
   "outputs": [
    {
     "name": "stdout",
     "output_type": "stream",
     "text": [
      "100 220\n",
      "134 256\n",
      "143 289\n",
      "140 245\n"
     ]
    }
   ],
   "source": [
    "import csv\n",
    "\n",
    "with open('sample.csv') as f:\n",
    "    reader = csv.DictReader(f)\n",
    "    for row in reader:\n",
    "        print(row['Amsterdam'], row['Berlin'])\n"
   ]
  },
  {
   "cell_type": "code",
   "execution_count": 7,
   "id": "26f97cd1",
   "metadata": {},
   "outputs": [],
   "source": [
    "with open ('cities.txt','w') as f:\n",
    "    f.write('Dallas | Manchester | Copenhagen')"
   ]
  }
 ],
 "metadata": {
  "kernelspec": {
   "display_name": "learn-env",
   "language": "python",
   "name": "python3"
  },
  "language_info": {
   "codemirror_mode": {
    "name": "ipython",
    "version": 3
   },
   "file_extension": ".py",
   "mimetype": "text/x-python",
   "name": "python",
   "nbconvert_exporter": "python",
   "pygments_lexer": "ipython3",
   "version": "3.8.5"
  }
 },
 "nbformat": 4,
 "nbformat_minor": 5
}
