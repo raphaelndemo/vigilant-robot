{
 "cells": [
  {
   "cell_type": "code",
   "execution_count": null,
   "id": "9b6c3565",
   "metadata": {},
   "outputs": [],
   "source": [
    "import pandas as pd\n",
    "pd.read_csv('./sample.csv').head()"
   ]
  },
  {
   "cell_type": "code",
   "execution_count": null,
   "id": "3ed1cd8c",
   "metadata": {},
   "outputs": [],
   "source": [
    "x = open('./sample.csv', 'r')\n",
    "x.read()"
   ]
  },
  {
   "cell_type": "code",
   "execution_count": null,
   "id": "132bbd69",
   "metadata": {},
   "outputs": [],
   "source": [
    "x.code()"
   ]
  },
  {
   "cell_type": "code",
   "execution_count": null,
   "id": "e74b8cc6",
   "metadata": {},
   "outputs": [],
   "source": [
    "## with automatically open and closes the file when using open\n",
    "\n",
    "with open('./sample.csv', 'r') as f:\n",
    "    print(f.read())"
   ]
  },
  {
   "cell_type": "code",
   "execution_count": 3,
   "id": "71e6c91d",
   "metadata": {},
   "outputs": [
    {
     "name": "stdout",
     "output_type": "stream",
     "text": [
      "100 220\n",
      "134 256\n",
      "143 289\n",
      "140 245\n"
     ]
    }
   ],
   "source": [
    "import csv\n",
    "\n",
    "with open('sample.csv') as f:\n",
    "    reader = csv.DictReader(f)\n",
    "    for row in reader:\n",
    "        print(row['Amsterdam'], row['Berlin'])\n"
   ]
  },
  {
   "cell_type": "code",
   "execution_count": 7,
   "id": "26f97cd1",
   "metadata": {},
   "outputs": [],
   "source": [
    "with open ('cities.txt','w') as f:\n",
    "    f.write('Dallas | Manchester | Copenhagen')"
   ]
  },
  {
   "cell_type": "code",
   "execution_count": 9,
   "id": "d4fbfe6f",
   "metadata": {},
   "outputs": [],
   "source": [
    "#import csv\n",
    "\n",
    "#with open(\"apple_orchard.csv\") as f:\n",
    "    #apple_orchard_data = list(csv.DictReader(f))\n",
    "    #apple_tree_yields = [float(x[\"yield\"]) for x in apple_orchard_data]\n",
    "    #print(\"Total apple tree yields:\", len(apple_tree_yields))\n",
    "    #print(\"Average apple tree yield:\", sum(apple_tree_yields) / len(apple_tree_yields))\n",
    "    #print(\"Maximum apple tree yield:\", max(apple_tree_yields))\n",
    "    #print(\"Minimum apple tree yield:\", min(apple_tree_yields)) "
   ]
  },
  {
   "cell_type": "code",
   "execution_count": null,
   "id": "1b3418cd",
   "metadata": {},
   "outputs": [
    {
     "data": {
      "text/plain": [
       "{'playlist_name': 'My_Jams',\n",
       " 'created_by': 'Chacha',\n",
       " 'tracks': [{'title': 'Stan',\n",
       "   'artist': 'Eminem',\n",
       "   'album': 'The Marshall Mathers LP',\n",
       "   'duration_sec': 405},\n",
       "  {'title': 'In Da Club',\n",
       "   'artist': '50 Cent',\n",
       "   'album': 'Get Rich or Die Tryin',\n",
       "   'duration_sec': 240},\n",
       "  {'title': 'Suzanna',\n",
       "   'artist': 'Sauti Sol',\n",
       "   'album': 'Midnight Train',\n",
       "   'duration_sec': 239},\n",
       "  {'title': 'Many Men',\n",
       "   'artist': '50 Cent',\n",
       "   'album': 'Get Rich or Die Tryin',\n",
       "   'duration_sec': 256},\n",
       "  {'title': 'Bad Liar',\n",
       "   'artist': 'Imagine Dragons',\n",
       "   'album': 'Origins',\n",
       "   'duration_sec': 243}]}"
      ]
     },
     "execution_count": 1,
     "metadata": {},
     "output_type": "execute_result"
    }
   ],
   "source": [
    "import json\n",
    "\n",
    "with open ('playlist.json', 'r') as f:\n",
    "    data = json.load(f)\n",
    "\n",
    "data"
   ]
  },
  {
   "cell_type": "code",
   "execution_count": null,
   "id": "95ebd162",
   "metadata": {},
   "outputs": [
    {
     "data": {
      "text/plain": [
       "'{\\n  \"playlist_name\": \"My_Jams\",\\n  \"created_by\": \"Chacha\",\\n  \"tracks\": [\\n    {\\n      \"title\": \"Stan\",\\n      \"artist\": \"Eminem\",\\n      \"album\": \"The Marshall Mathers LP\",\\n      \"duration_sec\": 405\\n    },\\n    {\\n      \"title\": \"In Da Club\",\\n      \"artist\": \"50 Cent\",\\n      \"album\": \"Get Rich or Die Tryin\",\\n      \"duration_sec\": 240\\n    },\\n    {\\n      \"title\": \"Suzanna\",\\n      \"artist\": \"Sauti Sol\",\\n      \"album\": \"Midnight Train\",\\n      \"duration_sec\": 239\\n    },\\n    {\\n      \"title\": \"Many Men\",\\n      \"artist\": \"50 Cent\",\\n      \"album\": \"Get Rich or Die Tryin\",\\n      \"duration_sec\": 256\\n    },\\n    {\\n      \"title\": \"Bad Liar\",\\n      \"artist\": \"Imagine Dragons\",\\n      \"album\": \"Origins\",\\n      \"duration_sec\": 243\\n    }\\n  ]\\n}\\n'"
      ]
     },
     "execution_count": 5,
     "metadata": {},
     "output_type": "execute_result"
    }
   ],
   "source": [
    "#not recommended, everything becomes a string\n",
    "with open('playlist.json', 'r') as f:\n",
    "    dt = f.read()\n",
    "\n",
    "dt"
   ]
  }
 ],
 "metadata": {
  "kernelspec": {
   "display_name": "learn-env",
   "language": "python",
   "name": "python3"
  },
  "language_info": {
   "codemirror_mode": {
    "name": "ipython",
    "version": 3
   },
   "file_extension": ".py",
   "mimetype": "text/x-python",
   "name": "python",
   "nbconvert_exporter": "python",
   "pygments_lexer": "ipython3",
   "version": "3.8.5"
  }
 },
 "nbformat": 4,
 "nbformat_minor": 5
}
